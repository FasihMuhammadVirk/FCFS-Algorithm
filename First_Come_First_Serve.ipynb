{
  "nbformat": 4,
  "nbformat_minor": 0,
  "metadata": {
    "colab": {
      "provenance": []
    },
    "kernelspec": {
      "name": "python3",
      "display_name": "Python 3"
    },
    "language_info": {
      "name": "python"
    }
  },
  "cells": [
    {
      "cell_type": "code",
      "execution_count": null,
      "metadata": {
        "colab": {
          "base_uri": "https://localhost:8080/"
        },
        "id": "vWiafjDq7uyf",
        "outputId": "5af6e8a5-bfa3-496d-dc16-153471121f44"
      },
      "outputs": [
        {
          "output_type": "stream",
          "name": "stdout",
          "text": [
            "First Come First Serve\n",
            "Enter the Burst Time 'seperated by comas' 1,2,3,4\n",
            "Burst Time\n",
            "[1, 2, 3, 4]\n",
            "Waiting Time\n",
            "[0, 1, 1, 2]\n",
            "Turn Around Time\n",
            "[10, 11, 11, 12]\n",
            "Average Waiting Time\n",
            "0.4\n",
            "Average Turn Around Time\n",
            "4.4\n"
          ]
        }
      ],
      "source": [
        "import math \n",
        "print(\"First Come First Serve\")\n",
        "\n",
        "bbtt = input(\"Enter the Burst Time 'seperated by comas' \").split(\",\")\n",
        "\n",
        "print('')\n",
        "#burst_time \n",
        "burst_time = []\n",
        "\n",
        "\n",
        "for i in bbtt:\n",
        "  burst_time.append(int(i))\n",
        "\n",
        "print(\"Burst Time\")\n",
        "print(burst_time)\n",
        "print('')\n",
        "#waiting time \n",
        "waiting_time = [0] \n",
        "\n",
        "for i in range(1,len(burst_time)):\n",
        "  waiting_time.append(int(burst_time[i-1]) - int(waiting_time[i-1]))\n",
        "\n",
        "print('Waiting Time')\n",
        "print(waiting_time)\n",
        "print('')\n",
        "\n",
        "#turn around time\n",
        "turn_aroundtime = []\n",
        "\n",
        "for i in range(0,len(burst_time)):\n",
        "\n",
        "  turn_aroundtime.append(int(waiting_time[i]) + sum(burst_time))\n",
        "\n",
        "print(\"Turn Around Time\")\n",
        "print(turn_aroundtime)\n",
        "print('')\n",
        "\n",
        "#average waiting time\n",
        "average_waitingtime = sum(waiting_time)/sum(burst_time)\n",
        "print(\"Average Waiting Time\")\n",
        "print(average_waitingtime)\n",
        "print('')\n",
        "\n",
        "#average TAT \n",
        "avgturn_aroundtime = sum(turn_aroundtime)/sum(burst_time)\n",
        "print(\"Average Turn Around Time\")\n",
        "print(avgturn_aroundtime)\n",
        "print('')\n"
      ]
    },
    {
      "cell_type": "markdown",
      "source": [],
      "metadata": {
        "id": "efwKiprK2qjg"
      }
    }
  ]
}