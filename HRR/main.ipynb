{
 "cells": [
  {
   "cell_type": "code",
   "execution_count": null,
   "metadata": {},
   "outputs": [],
   "source": [
    "def hrrn(processes):\n",
    "    # Create a list to store the results\n",
    "    results = []\n",
    "    # Set the current time to 0\n",
    "    current_time = 0\n",
    "    # Create a queue to store the processes\n",
    "    queue = processes.copy()\n",
    "    # Loop until the queue is empty\n",
    "    while queue:\n",
    "        # Calculate the response ratio for each process\n",
    "        for p in queue:\n",
    "            p['response_ratio'] = (current_time - p['arrival_time'] + p['burst_time']) / p['burst_time']\n",
    "        # Sort the queue by response ratio in descending order\n",
    "        queue.sort(key=lambda p: p['response_ratio'], reverse=True)\n",
    "        # Get the process with the highest response ratio\n",
    "        process = queue.pop(0)\n",
    "        # Increment the current time by the burst time of the process\n",
    "        current_time += process['burst_time']\n",
    "        # Add the process to the results list\n",
    "        results.append({'Process': process['name'], 'Start Time': current_time - process['burst_time'], 'End Time': current_time})\n",
    "    # Return the results\n",
    "    return results\n",
    "\n",
    "# Define the processes\n",
    "processes = [\n",
    "    {'name': 'P1', 'arrival_time': 0, 'burst_time': 5},\n",
    "    {'name': 'P2', 'arrival_time': 1, 'burst_time': 3},\n",
    "    {'name': 'P3', 'arrival_time': 2, 'burst_time': 4},\n",
    "    {'name': 'P4', 'arrival_time': 3, 'burst_time': 2}\n",
    "]\n",
    "\n",
    "# Run the HRRN scheduling algorithm\n",
    "results = hrrn(processes)\n",
    "\n",
    "# Print the results\n",
    "for result in results:\n",
    "    print(f'Process: {result[\"Process\"]}, Start Time: {result[\"Start Time\"]}, End Time: {result[\"End Time\"]}')\n",
    "\n",
    "# Output:\n",
    "# Process: P3, Start Time: 0, End Time: 4\n",
    "# Process: P1, Start Time: 4, End Time: 9\n",
    "# Process: P2, Start Time: 9, End Time: 12\n",
    "# Process: P4, Start Time: 12, End Time: 14\n"
   ]
  }
 ],
 "metadata": {
  "kernelspec": {
   "display_name": "Python 3",
   "language": "python",
   "name": "python3"
  },
  "language_info": {
   "name": "python",
   "version": "3.11.0 (main, Oct 24 2022, 18:26:48) [MSC v.1933 64 bit (AMD64)]"
  },
  "orig_nbformat": 4,
  "vscode": {
   "interpreter": {
    "hash": "379fe8e10ded02fa94a29b4b37a41c7d80f19320dc2f2cadbccf353975fbaaa0"
   }
  }
 },
 "nbformat": 4,
 "nbformat_minor": 2
}
