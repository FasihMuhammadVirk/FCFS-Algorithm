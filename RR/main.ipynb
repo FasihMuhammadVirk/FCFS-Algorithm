{
 "cells": [
  {
   "cell_type": "code",
   "execution_count": 23,
   "metadata": {},
   "outputs": [
    {
     "name": "stdout",
     "output_type": "stream",
     "text": [
      "Table: \n",
      "Process: P1 | Burst Time: 12 | Arrival Time: 11 | Turn Around Time: 34 | Waiting Time: 22\n",
      "Process: P2 | Burst Time: 12 | Arrival Time: 12 | Turn Around Time: 34 | Waiting Time: 22\n",
      "Process: P3 | Burst Time: 12 | Arrival Time: 11 | Turn Around Time: 36 | Waiting Time: 24\n",
      "Average TAT: 34.666666666666664\n",
      "Average WT: 22.666666666666668\n"
     ]
    }
   ],
   "source": [
    "\n",
    "def completetiontime(processes,quantum):\n",
    "  completion_times = []\n",
    "  queue = []\n",
    "  process_info = {}\n",
    "  current_time = 0\n",
    "\n",
    "  for process in processes:\n",
    "    name, burst_time, arrival_time = process\n",
    "    process_info[name] = [burst_time, arrival_time]\n",
    "    queue.append(name)\n",
    "\n",
    "  while queue:\n",
    "\n",
    "    name = queue.pop(0)\n",
    "    burst_time, arrival_time = process_info[name]\n",
    "\n",
    "    if arrival_time > current_time:\n",
    "\n",
    "      current_time = arrival_time\n",
    "\n",
    "    if burst_time > quantum:\n",
    "\n",
    "      burst_time -= quantum\n",
    "      current_time += quantum\n",
    "      process_info[name] = [burst_time, arrival_time]\n",
    "      queue.append(name)\n",
    "\n",
    "    else:\n",
    "\n",
    "      current_time += burst_time\n",
    "      completion_times.append((name, current_time))\n",
    "\n",
    "  return sorted(completion_times,key=lambda x :x)\n",
    "    \n",
    "\n",
    "def turnaroundtime(processes,completetion_times):\n",
    "  turnaround_time = []\n",
    "  for i in range(0,len(processes)):\n",
    "    turnaround_time.append((f\"{processes[i][0]}\", completetion_times[i][1]-processes[i][2]))\n",
    "  return turnaround_time\n",
    "    \n",
    "def waitingtime(processes,turnaround_time):\n",
    "  waiting_time = []\n",
    "  for j in range(0,len(processes)):\n",
    "    waiting_time.append((f\"{processes[j][0]}\",turnaround_time[j][1]-processes[j][1]))\n",
    "  return waiting_time\n",
    "\n",
    "def output(processes,turnaround_time,waiting_time):\n",
    "      for i in range(0,len(processes)):\n",
    "        print(f\"Process: {processes[i][0]} | Burst Time: {processes[i][1]} | Arrival Time: {processes[i][2]} | Turn Around Time: {turnaround_time[i][1]} | Waiting Time: {waiting_time[i][1]}\")\n",
    "\n",
    "# define the processes\n",
    "\n",
    "\n",
    "no_of_process = int(input(\"Enter How Many Process Do You Want to Enter: \"))\n",
    "Quantum = int(input('Enter the Quantum Number: '))\n",
    "\n",
    "\n",
    "Processes = []\n",
    "for n in range(0,no_of_process):\n",
    "      p = f'P{n+1}'\n",
    "      Bursttime = int(input(f\"Enter the Burst Time of the {n +1} Process: \"))\n",
    "      Arrivaltime = int(input(f\"Enter the Arrival Time of the {n+1} Process: \"))\n",
    "      Processes.append((p,Bursttime,Arrivaltime))\n",
    "\n",
    "\n",
    "\n",
    "ct = completetiontime(Processes,Quantum)\n",
    "tat = turnaroundtime(Processes,ct)\n",
    "wt = waitingtime(Processes,tat)\n",
    "\n",
    "\n",
    "print(\"Table: \")\n",
    "output(Processes,tat,wt)\n",
    "tatsum = 0\n",
    "for p , t in tat:\n",
    "      tatsum += int(t)\n",
    "print (f\"Average TAT: {tatsum/no_of_process}\")\n",
    "\n",
    "wtsum = 0\n",
    "for p , w in wt:\n",
    "      wtsum += int(w)\n",
    "print(f\"Average WT: {wtsum/no_of_process}\")\n"
   ]
  }
 ],
 "metadata": {
  "kernelspec": {
   "display_name": "Python 3",
   "language": "python",
   "name": "python3"
  },
  "language_info": {
   "codemirror_mode": {
    "name": "ipython",
    "version": 3
   },
   "file_extension": ".py",
   "mimetype": "text/x-python",
   "name": "python",
   "nbconvert_exporter": "python",
   "pygments_lexer": "ipython3",
   "version": "3.11.0 (main, Oct 24 2022, 18:26:48) [MSC v.1933 64 bit (AMD64)]"
  },
  "orig_nbformat": 4,
  "vscode": {
   "interpreter": {
    "hash": "379fe8e10ded02fa94a29b4b37a41c7d80f19320dc2f2cadbccf353975fbaaa0"
   }
  }
 },
 "nbformat": 4,
 "nbformat_minor": 2
}
